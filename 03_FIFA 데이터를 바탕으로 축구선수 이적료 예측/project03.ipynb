{
 "cells": [
  {
   "attachments": {},
   "cell_type": "markdown",
   "metadata": {},
   "source": [
    "### 데이터 살펴보기"
   ]
  },
  {
   "cell_type": "code",
   "execution_count": 1,
   "metadata": {},
   "outputs": [],
   "source": [
    "from os.path import join\n",
    "\n",
    "import numpy  as np\n",
    "import pandas as pd"
   ]
  },
  {
   "attachments": {},
   "cell_type": "markdown",
   "metadata": {},
   "source": [
    "### 데이터 불러오기 및 살펴보기"
   ]
  },
  {
   "cell_type": "code",
   "execution_count": 2,
   "metadata": {},
   "outputs": [],
   "source": [
    "train_path = join('input', 'FIFA_train.csv')\n",
    "test_path  = join('input', 'FIFA_test.csv')\n",
    "\n",
    "train = pd.read_csv(train_path)\n",
    "test  = pd.read_csv(test_path)"
   ]
  },
  {
   "cell_type": "code",
   "execution_count": 3,
   "metadata": {},
   "outputs": [
    {
     "data": {
      "text/html": [
       "<div>\n",
       "<style scoped>\n",
       "    .dataframe tbody tr th:only-of-type {\n",
       "        vertical-align: middle;\n",
       "    }\n",
       "\n",
       "    .dataframe tbody tr th {\n",
       "        vertical-align: top;\n",
       "    }\n",
       "\n",
       "    .dataframe thead th {\n",
       "        text-align: right;\n",
       "    }\n",
       "</style>\n",
       "<table border=\"1\" class=\"dataframe\">\n",
       "  <thead>\n",
       "    <tr style=\"text-align: right;\">\n",
       "      <th></th>\n",
       "      <th>id</th>\n",
       "      <th>name</th>\n",
       "      <th>age</th>\n",
       "      <th>continent</th>\n",
       "      <th>contract_until</th>\n",
       "      <th>position</th>\n",
       "      <th>prefer_foot</th>\n",
       "      <th>reputation</th>\n",
       "      <th>stat_overall</th>\n",
       "      <th>stat_potential</th>\n",
       "      <th>stat_skill_moves</th>\n",
       "      <th>value</th>\n",
       "    </tr>\n",
       "  </thead>\n",
       "  <tbody>\n",
       "    <tr>\n",
       "      <th>0</th>\n",
       "      <td>0</td>\n",
       "      <td>L. Messi</td>\n",
       "      <td>31</td>\n",
       "      <td>south america</td>\n",
       "      <td>2021</td>\n",
       "      <td>ST</td>\n",
       "      <td>left</td>\n",
       "      <td>5.0</td>\n",
       "      <td>94</td>\n",
       "      <td>94</td>\n",
       "      <td>4.0</td>\n",
       "      <td>110500000.0</td>\n",
       "    </tr>\n",
       "    <tr>\n",
       "      <th>1</th>\n",
       "      <td>3</td>\n",
       "      <td>De Gea</td>\n",
       "      <td>27</td>\n",
       "      <td>europe</td>\n",
       "      <td>2020</td>\n",
       "      <td>GK</td>\n",
       "      <td>right</td>\n",
       "      <td>4.0</td>\n",
       "      <td>91</td>\n",
       "      <td>93</td>\n",
       "      <td>1.0</td>\n",
       "      <td>72000000.0</td>\n",
       "    </tr>\n",
       "    <tr>\n",
       "      <th>2</th>\n",
       "      <td>7</td>\n",
       "      <td>L. Suárez</td>\n",
       "      <td>31</td>\n",
       "      <td>south america</td>\n",
       "      <td>2021</td>\n",
       "      <td>ST</td>\n",
       "      <td>right</td>\n",
       "      <td>5.0</td>\n",
       "      <td>91</td>\n",
       "      <td>91</td>\n",
       "      <td>3.0</td>\n",
       "      <td>80000000.0</td>\n",
       "    </tr>\n",
       "    <tr>\n",
       "      <th>3</th>\n",
       "      <td>8</td>\n",
       "      <td>Sergio Ramos</td>\n",
       "      <td>32</td>\n",
       "      <td>europe</td>\n",
       "      <td>2020</td>\n",
       "      <td>DF</td>\n",
       "      <td>right</td>\n",
       "      <td>4.0</td>\n",
       "      <td>91</td>\n",
       "      <td>91</td>\n",
       "      <td>3.0</td>\n",
       "      <td>51000000.0</td>\n",
       "    </tr>\n",
       "    <tr>\n",
       "      <th>4</th>\n",
       "      <td>9</td>\n",
       "      <td>J. Oblak</td>\n",
       "      <td>25</td>\n",
       "      <td>europe</td>\n",
       "      <td>2021</td>\n",
       "      <td>GK</td>\n",
       "      <td>right</td>\n",
       "      <td>3.0</td>\n",
       "      <td>90</td>\n",
       "      <td>93</td>\n",
       "      <td>1.0</td>\n",
       "      <td>68000000.0</td>\n",
       "    </tr>\n",
       "  </tbody>\n",
       "</table>\n",
       "</div>"
      ],
      "text/plain": [
       "   id          name  age      continent contract_until position prefer_foot  \\\n",
       "0   0      L. Messi   31  south america           2021       ST        left   \n",
       "1   3        De Gea   27         europe           2020       GK       right   \n",
       "2   7     L. Suárez   31  south america           2021       ST       right   \n",
       "3   8  Sergio Ramos   32         europe           2020       DF       right   \n",
       "4   9      J. Oblak   25         europe           2021       GK       right   \n",
       "\n",
       "   reputation  stat_overall  stat_potential  stat_skill_moves        value  \n",
       "0         5.0            94              94               4.0  110500000.0  \n",
       "1         4.0            91              93               1.0   72000000.0  \n",
       "2         5.0            91              91               3.0   80000000.0  \n",
       "3         4.0            91              91               3.0   51000000.0  \n",
       "4         3.0            90              93               1.0   68000000.0  "
      ]
     },
     "execution_count": 3,
     "metadata": {},
     "output_type": "execute_result"
    }
   ],
   "source": [
    "train.head()"
   ]
  },
  {
   "cell_type": "code",
   "execution_count": 4,
   "metadata": {},
   "outputs": [
    {
     "data": {
      "text/html": [
       "<div>\n",
       "<style scoped>\n",
       "    .dataframe tbody tr th:only-of-type {\n",
       "        vertical-align: middle;\n",
       "    }\n",
       "\n",
       "    .dataframe tbody tr th {\n",
       "        vertical-align: top;\n",
       "    }\n",
       "\n",
       "    .dataframe thead th {\n",
       "        text-align: right;\n",
       "    }\n",
       "</style>\n",
       "<table border=\"1\" class=\"dataframe\">\n",
       "  <thead>\n",
       "    <tr style=\"text-align: right;\">\n",
       "      <th></th>\n",
       "      <th>id</th>\n",
       "      <th>name</th>\n",
       "      <th>age</th>\n",
       "      <th>continent</th>\n",
       "      <th>contract_until</th>\n",
       "      <th>position</th>\n",
       "      <th>prefer_foot</th>\n",
       "      <th>reputation</th>\n",
       "      <th>stat_overall</th>\n",
       "      <th>stat_potential</th>\n",
       "      <th>stat_skill_moves</th>\n",
       "    </tr>\n",
       "  </thead>\n",
       "  <tbody>\n",
       "    <tr>\n",
       "      <th>0</th>\n",
       "      <td>1</td>\n",
       "      <td>Cristiano Ronaldo</td>\n",
       "      <td>33</td>\n",
       "      <td>europe</td>\n",
       "      <td>2022</td>\n",
       "      <td>ST</td>\n",
       "      <td>right</td>\n",
       "      <td>5.0</td>\n",
       "      <td>94</td>\n",
       "      <td>94</td>\n",
       "      <td>5.0</td>\n",
       "    </tr>\n",
       "    <tr>\n",
       "      <th>1</th>\n",
       "      <td>2</td>\n",
       "      <td>Neymar Jr</td>\n",
       "      <td>26</td>\n",
       "      <td>south america</td>\n",
       "      <td>2022</td>\n",
       "      <td>ST</td>\n",
       "      <td>right</td>\n",
       "      <td>5.0</td>\n",
       "      <td>92</td>\n",
       "      <td>93</td>\n",
       "      <td>5.0</td>\n",
       "    </tr>\n",
       "    <tr>\n",
       "      <th>2</th>\n",
       "      <td>4</td>\n",
       "      <td>K. De Bruyne</td>\n",
       "      <td>27</td>\n",
       "      <td>europe</td>\n",
       "      <td>2023</td>\n",
       "      <td>MF</td>\n",
       "      <td>right</td>\n",
       "      <td>4.0</td>\n",
       "      <td>91</td>\n",
       "      <td>92</td>\n",
       "      <td>4.0</td>\n",
       "    </tr>\n",
       "    <tr>\n",
       "      <th>3</th>\n",
       "      <td>5</td>\n",
       "      <td>E. Hazard</td>\n",
       "      <td>27</td>\n",
       "      <td>europe</td>\n",
       "      <td>2020</td>\n",
       "      <td>ST</td>\n",
       "      <td>right</td>\n",
       "      <td>4.0</td>\n",
       "      <td>91</td>\n",
       "      <td>91</td>\n",
       "      <td>4.0</td>\n",
       "    </tr>\n",
       "    <tr>\n",
       "      <th>4</th>\n",
       "      <td>6</td>\n",
       "      <td>L. Modrić</td>\n",
       "      <td>32</td>\n",
       "      <td>europe</td>\n",
       "      <td>2020</td>\n",
       "      <td>MF</td>\n",
       "      <td>right</td>\n",
       "      <td>4.0</td>\n",
       "      <td>91</td>\n",
       "      <td>91</td>\n",
       "      <td>4.0</td>\n",
       "    </tr>\n",
       "  </tbody>\n",
       "</table>\n",
       "</div>"
      ],
      "text/plain": [
       "   id               name  age      continent contract_until position  \\\n",
       "0   1  Cristiano Ronaldo   33         europe           2022       ST   \n",
       "1   2          Neymar Jr   26  south america           2022       ST   \n",
       "2   4       K. De Bruyne   27         europe           2023       MF   \n",
       "3   5          E. Hazard   27         europe           2020       ST   \n",
       "4   6          L. Modrić   32         europe           2020       MF   \n",
       "\n",
       "  prefer_foot  reputation  stat_overall  stat_potential  stat_skill_moves  \n",
       "0       right         5.0            94              94               5.0  \n",
       "1       right         5.0            92              93               5.0  \n",
       "2       right         4.0            91              92               4.0  \n",
       "3       right         4.0            91              91               4.0  \n",
       "4       right         4.0            91              91               4.0  "
      ]
     },
     "execution_count": 4,
     "metadata": {},
     "output_type": "execute_result"
    }
   ],
   "source": [
    "test.head()"
   ]
  },
  {
   "cell_type": "code",
   "execution_count": 5,
   "metadata": {},
   "outputs": [
    {
     "name": "stdout",
     "output_type": "stream",
     "text": [
      "<class 'pandas.core.frame.DataFrame'>\n",
      "RangeIndex: 8932 entries, 0 to 8931\n",
      "Data columns (total 12 columns):\n",
      " #   Column            Non-Null Count  Dtype  \n",
      "---  ------            --------------  -----  \n",
      " 0   id                8932 non-null   int64  \n",
      " 1   name              8932 non-null   object \n",
      " 2   age               8932 non-null   int64  \n",
      " 3   continent         8932 non-null   object \n",
      " 4   contract_until    8932 non-null   object \n",
      " 5   position          8932 non-null   object \n",
      " 6   prefer_foot       8932 non-null   object \n",
      " 7   reputation        8932 non-null   float64\n",
      " 8   stat_overall      8932 non-null   int64  \n",
      " 9   stat_potential    8932 non-null   int64  \n",
      " 10  stat_skill_moves  8932 non-null   float64\n",
      " 11  value             8932 non-null   float64\n",
      "dtypes: float64(3), int64(4), object(5)\n",
      "memory usage: 837.5+ KB\n"
     ]
    }
   ],
   "source": [
    "train.info()"
   ]
  },
  {
   "attachments": {},
   "cell_type": "markdown",
   "metadata": {},
   "source": [
    "---"
   ]
  },
  {
   "attachments": {},
   "cell_type": "markdown",
   "metadata": {},
   "source": [
    "#### 결측치 확인하기"
   ]
  },
  {
   "cell_type": "code",
   "execution_count": 6,
   "metadata": {},
   "outputs": [],
   "source": [
    "import missingno as msno"
   ]
  },
  {
   "cell_type": "code",
   "execution_count": 7,
   "metadata": {},
   "outputs": [
    {
     "data": {
      "text/plain": [
       "<AxesSubplot:>"
      ]
     },
     "execution_count": 7,
     "metadata": {},
     "output_type": "execute_result"
    },
    {
     "data": {
      "image/png": "[encoded data removed]",
      "text/plain": [
       "<Figure size 1800x720 with 2 Axes>"
      ]
     },
     "metadata": {
      "needs_background": "light"
     },
     "output_type": "display_data"
    }
   ],
   "source": [
    "msno.matrix(train)"
   ]
  },
  {
   "cell_type": "code",
   "execution_count": 8,
   "metadata": {},
   "outputs": [
    {
     "data": {
      "text/plain": [
       "<AxesSubplot:>"
      ]
     },
     "execution_count": 8,
     "metadata": {},
     "output_type": "execute_result"
    },
    {
     "data": {
      "image/png": "[encoded data removed]",
      "text/plain": [
       "<Figure size 1800x720 with 2 Axes>"
      ]
     },
     "metadata": {
      "needs_background": "light"
     },
     "output_type": "display_data"
    }
   ],
   "source": [
    "msno.matrix(test)"
   ]
  },
  {
   "cell_type": "code",
   "execution_count": 9,
   "metadata": {},
   "outputs": [
    {
     "data": {
      "text/plain": [
       "id                  0\n",
       "name                0\n",
       "age                 0\n",
       "continent           0\n",
       "contract_until      0\n",
       "position            0\n",
       "prefer_foot         0\n",
       "reputation          0\n",
       "stat_overall        0\n",
       "stat_potential      0\n",
       "stat_skill_moves    0\n",
       "value               0\n",
       "dtype: int64"
      ]
     },
     "execution_count": 9,
     "metadata": {},
     "output_type": "execute_result"
    }
   ],
   "source": [
    "# pd.isna(train) : 각 데이터의 결측 유무 파악, .sum() : 개수 파악\n",
    "pd.isna(train).sum()"
   ]
  },
  {
   "cell_type": "code",
   "execution_count": 10,
   "metadata": {},
   "outputs": [
    {
     "data": {
      "text/plain": [
       "id                  0\n",
       "name                0\n",
       "age                 0\n",
       "continent           0\n",
       "contract_until      0\n",
       "position            0\n",
       "prefer_foot         0\n",
       "reputation          0\n",
       "stat_overall        0\n",
       "stat_potential      0\n",
       "stat_skill_moves    0\n",
       "dtype: int64"
      ]
     },
     "execution_count": 10,
     "metadata": {},
     "output_type": "execute_result"
    }
   ],
   "source": [
    "pd.isna(test).sum()"
   ]
  },
  {
   "attachments": {},
   "cell_type": "markdown",
   "metadata": {},
   "source": [
    "#### 이상치 확인하기"
   ]
  },
  {
   "cell_type": "code",
   "execution_count": 11,
   "metadata": {},
   "outputs": [
    {
     "data": {
      "text/html": [
       "<div>\n",
       "<style scoped>\n",
       "    .dataframe tbody tr th:only-of-type {\n",
       "        vertical-align: middle;\n",
       "    }\n",
       "\n",
       "    .dataframe tbody tr th {\n",
       "        vertical-align: top;\n",
       "    }\n",
       "\n",
       "    .dataframe thead th {\n",
       "        text-align: right;\n",
       "    }\n",
       "</style>\n",
       "<table border=\"1\" class=\"dataframe\">\n",
       "  <thead>\n",
       "    <tr style=\"text-align: right;\">\n",
       "      <th></th>\n",
       "      <th>id</th>\n",
       "      <th>age</th>\n",
       "      <th>reputation</th>\n",
       "      <th>stat_overall</th>\n",
       "      <th>stat_potential</th>\n",
       "      <th>stat_skill_moves</th>\n",
       "      <th>value</th>\n",
       "    </tr>\n",
       "  </thead>\n",
       "  <tbody>\n",
       "    <tr>\n",
       "      <th>count</th>\n",
       "      <td>8932.000000</td>\n",
       "      <td>8932.000000</td>\n",
       "      <td>8932.000000</td>\n",
       "      <td>8932.000000</td>\n",
       "      <td>8932.000000</td>\n",
       "      <td>8932.000000</td>\n",
       "      <td>8.932000e+03</td>\n",
       "    </tr>\n",
       "    <tr>\n",
       "      <th>mean</th>\n",
       "      <td>7966.775750</td>\n",
       "      <td>25.209136</td>\n",
       "      <td>1.130878</td>\n",
       "      <td>67.091133</td>\n",
       "      <td>71.997201</td>\n",
       "      <td>2.401702</td>\n",
       "      <td>2.778673e+06</td>\n",
       "    </tr>\n",
       "    <tr>\n",
       "      <th>std</th>\n",
       "      <td>4844.428521</td>\n",
       "      <td>4.635515</td>\n",
       "      <td>0.423792</td>\n",
       "      <td>6.854910</td>\n",
       "      <td>5.988147</td>\n",
       "      <td>0.776048</td>\n",
       "      <td>5.840982e+06</td>\n",
       "    </tr>\n",
       "    <tr>\n",
       "      <th>min</th>\n",
       "      <td>0.000000</td>\n",
       "      <td>16.000000</td>\n",
       "      <td>1.000000</td>\n",
       "      <td>47.000000</td>\n",
       "      <td>48.000000</td>\n",
       "      <td>1.000000</td>\n",
       "      <td>1.000000e+04</td>\n",
       "    </tr>\n",
       "    <tr>\n",
       "      <th>25%</th>\n",
       "      <td>3751.750000</td>\n",
       "      <td>21.000000</td>\n",
       "      <td>1.000000</td>\n",
       "      <td>63.000000</td>\n",
       "      <td>68.000000</td>\n",
       "      <td>2.000000</td>\n",
       "      <td>3.750000e+05</td>\n",
       "    </tr>\n",
       "    <tr>\n",
       "      <th>50%</th>\n",
       "      <td>7696.500000</td>\n",
       "      <td>25.000000</td>\n",
       "      <td>1.000000</td>\n",
       "      <td>67.000000</td>\n",
       "      <td>72.000000</td>\n",
       "      <td>2.000000</td>\n",
       "      <td>8.250000e+05</td>\n",
       "    </tr>\n",
       "    <tr>\n",
       "      <th>75%</th>\n",
       "      <td>12082.250000</td>\n",
       "      <td>28.000000</td>\n",
       "      <td>1.000000</td>\n",
       "      <td>72.000000</td>\n",
       "      <td>76.000000</td>\n",
       "      <td>3.000000</td>\n",
       "      <td>2.600000e+06</td>\n",
       "    </tr>\n",
       "    <tr>\n",
       "      <th>max</th>\n",
       "      <td>16948.000000</td>\n",
       "      <td>40.000000</td>\n",
       "      <td>5.000000</td>\n",
       "      <td>94.000000</td>\n",
       "      <td>94.000000</td>\n",
       "      <td>5.000000</td>\n",
       "      <td>1.105000e+08</td>\n",
       "    </tr>\n",
       "  </tbody>\n",
       "</table>\n",
       "</div>"
      ],
      "text/plain": [
       "                 id          age   reputation  stat_overall  stat_potential  \\\n",
       "count   8932.000000  8932.000000  8932.000000   8932.000000     8932.000000   \n",
       "mean    7966.775750    25.209136     1.130878     67.091133       71.997201   \n",
       "std     4844.428521     4.635515     0.423792      6.854910        5.988147   \n",
       "min        0.000000    16.000000     1.000000     47.000000       48.000000   \n",
       "25%     3751.750000    21.000000     1.000000     63.000000       68.000000   \n",
       "50%     7696.500000    25.000000     1.000000     67.000000       72.000000   \n",
       "75%    12082.250000    28.000000     1.000000     72.000000       76.000000   \n",
       "max    16948.000000    40.000000     5.000000     94.000000       94.000000   \n",
       "\n",
       "       stat_skill_moves         value  \n",
       "count       8932.000000  8.932000e+03  \n",
       "mean           2.401702  2.778673e+06  \n",
       "std            0.776048  5.840982e+06  \n",
       "min            1.000000  1.000000e+04  \n",
       "25%            2.000000  3.750000e+05  \n",
       "50%            2.000000  8.250000e+05  \n",
       "75%            3.000000  2.600000e+06  \n",
       "max            5.000000  1.105000e+08  "
      ]
     },
     "execution_count": 11,
     "metadata": {},
     "output_type": "execute_result"
    }
   ],
   "source": [
    "train.describe()"
   ]
  },
  {
   "cell_type": "code",
   "execution_count": 12,
   "metadata": {},
   "outputs": [
    {
     "data": {
      "text/html": [
       "<div>\n",
       "<style scoped>\n",
       "    .dataframe tbody tr th:only-of-type {\n",
       "        vertical-align: middle;\n",
       "    }\n",
       "\n",
       "    .dataframe tbody tr th {\n",
       "        vertical-align: top;\n",
       "    }\n",
       "\n",
       "    .dataframe thead th {\n",
       "        text-align: right;\n",
       "    }\n",
       "</style>\n",
       "<table border=\"1\" class=\"dataframe\">\n",
       "  <thead>\n",
       "    <tr style=\"text-align: right;\">\n",
       "      <th></th>\n",
       "      <th>id</th>\n",
       "      <th>age</th>\n",
       "      <th>reputation</th>\n",
       "      <th>stat_overall</th>\n",
       "      <th>stat_potential</th>\n",
       "      <th>stat_skill_moves</th>\n",
       "    </tr>\n",
       "  </thead>\n",
       "  <tbody>\n",
       "    <tr>\n",
       "      <th>count</th>\n",
       "      <td>3828.000000</td>\n",
       "      <td>3828.000000</td>\n",
       "      <td>3828.000000</td>\n",
       "      <td>3828.000000</td>\n",
       "      <td>3828.000000</td>\n",
       "      <td>3828.000000</td>\n",
       "    </tr>\n",
       "    <tr>\n",
       "      <th>mean</th>\n",
       "      <td>7846.258098</td>\n",
       "      <td>25.297806</td>\n",
       "      <td>1.143939</td>\n",
       "      <td>67.336991</td>\n",
       "      <td>72.107628</td>\n",
       "      <td>2.414838</td>\n",
       "    </tr>\n",
       "    <tr>\n",
       "      <th>std</th>\n",
       "      <td>4870.339361</td>\n",
       "      <td>4.628236</td>\n",
       "      <td>0.448465</td>\n",
       "      <td>6.908814</td>\n",
       "      <td>6.133428</td>\n",
       "      <td>0.781153</td>\n",
       "    </tr>\n",
       "    <tr>\n",
       "      <th>min</th>\n",
       "      <td>1.000000</td>\n",
       "      <td>16.000000</td>\n",
       "      <td>1.000000</td>\n",
       "      <td>47.000000</td>\n",
       "      <td>52.000000</td>\n",
       "      <td>1.000000</td>\n",
       "    </tr>\n",
       "    <tr>\n",
       "      <th>25%</th>\n",
       "      <td>3466.250000</td>\n",
       "      <td>22.000000</td>\n",
       "      <td>1.000000</td>\n",
       "      <td>63.000000</td>\n",
       "      <td>68.000000</td>\n",
       "      <td>2.000000</td>\n",
       "    </tr>\n",
       "    <tr>\n",
       "      <th>50%</th>\n",
       "      <td>7643.500000</td>\n",
       "      <td>25.000000</td>\n",
       "      <td>1.000000</td>\n",
       "      <td>67.000000</td>\n",
       "      <td>72.000000</td>\n",
       "      <td>2.000000</td>\n",
       "    </tr>\n",
       "    <tr>\n",
       "      <th>75%</th>\n",
       "      <td>11967.000000</td>\n",
       "      <td>29.000000</td>\n",
       "      <td>1.000000</td>\n",
       "      <td>72.000000</td>\n",
       "      <td>76.000000</td>\n",
       "      <td>3.000000</td>\n",
       "    </tr>\n",
       "    <tr>\n",
       "      <th>max</th>\n",
       "      <td>16943.000000</td>\n",
       "      <td>42.000000</td>\n",
       "      <td>5.000000</td>\n",
       "      <td>94.000000</td>\n",
       "      <td>95.000000</td>\n",
       "      <td>5.000000</td>\n",
       "    </tr>\n",
       "  </tbody>\n",
       "</table>\n",
       "</div>"
      ],
      "text/plain": [
       "                 id          age   reputation  stat_overall  stat_potential  \\\n",
       "count   3828.000000  3828.000000  3828.000000   3828.000000     3828.000000   \n",
       "mean    7846.258098    25.297806     1.143939     67.336991       72.107628   \n",
       "std     4870.339361     4.628236     0.448465      6.908814        6.133428   \n",
       "min        1.000000    16.000000     1.000000     47.000000       52.000000   \n",
       "25%     3466.250000    22.000000     1.000000     63.000000       68.000000   \n",
       "50%     7643.500000    25.000000     1.000000     67.000000       72.000000   \n",
       "75%    11967.000000    29.000000     1.000000     72.000000       76.000000   \n",
       "max    16943.000000    42.000000     5.000000     94.000000       95.000000   \n",
       "\n",
       "       stat_skill_moves  \n",
       "count       3828.000000  \n",
       "mean           2.414838  \n",
       "std            0.781153  \n",
       "min            1.000000  \n",
       "25%            2.000000  \n",
       "50%            2.000000  \n",
       "75%            3.000000  \n",
       "max            5.000000  "
      ]
     },
     "execution_count": 12,
     "metadata": {},
     "output_type": "execute_result"
    }
   ],
   "source": [
    "test.describe()"
   ]
  },
  {
   "attachments": {},
   "cell_type": "markdown",
   "metadata": {},
   "source": [
    "#### Unique 값을 확인하여 Train, Test에 동일한 범주가 있는지를 확인"
   ]
  },
  {
   "cell_type": "code",
   "execution_count": 13,
   "metadata": {},
   "outputs": [],
   "source": [
    "cat_cols = ['continent', 'contract_until', 'position', 'prefer_foot']"
   ]
  },
  {
   "cell_type": "code",
   "execution_count": 14,
   "metadata": {},
   "outputs": [
    {
     "name": "stdout",
     "output_type": "stream",
     "text": [
      "continent \t: ['south america' 'europe' 'africa' 'asia' 'oceania']\n",
      "contract_until \t: ['2021' '2020' '2019' '2023' '2022' '2024' 'Jun 30, 2019' '2026'\n",
      " 'Dec 31, 2018' '2018' '2025' 'Jun 30, 2020' 'May 31, 2020' 'May 31, 2019'\n",
      " 'Jan 31, 2019' 'Jan 1, 2019' 'Jan 12, 2019']\n",
      "position \t: ['ST' 'GK' 'DF' 'MF']\n",
      "prefer_foot \t: ['left' 'right']\n"
     ]
    }
   ],
   "source": [
    "for col in cat_cols : \n",
    "    print('{} \\t: {}'.format(col, train[col].unique()))"
   ]
  },
  {
   "cell_type": "code",
   "execution_count": 15,
   "metadata": {},
   "outputs": [
    {
     "name": "stdout",
     "output_type": "stream",
     "text": [
      "continent \t: ['europe' 'south america' 'africa' 'asia' 'oceania']\n",
      "contract_until \t: ['2022' '2023' '2020' '2021' 'Jun 30, 2019' '2019' '2025' '2024' '2018'\n",
      " 'May 31, 2020' 'Jun 30, 2020' 'May 31, 2019' 'Dec 31, 2019'\n",
      " 'Dec 31, 2018' 'Jun 1, 2019' 'Jan 1, 2019' 'Jan 31, 2019' '2026']\n",
      "position \t: ['ST' 'MF' 'DF' 'GK']\n",
      "prefer_foot \t: ['right' 'left']\n"
     ]
    }
   ],
   "source": [
    "for col in cat_cols : \n",
    "    print('{} \\t: {}'.format(col, test[col].unique()))"
   ]
  },
  {
   "attachments": {},
   "cell_type": "markdown",
   "metadata": {},
   "source": [
    "계약 시기를 나타내는 contract_until 변수에서 각 값들이 일정한 형태를 가지지 않는 경우를 찾을 수 있음"
   ]
  },
  {
   "attachments": {},
   "cell_type": "markdown",
   "metadata": {},
   "source": [
    "---\n",
    "--- "
   ]
  },
  {
   "attachments": {},
   "cell_type": "markdown",
   "metadata": {},
   "source": [
    "## 데이터 전처리"
   ]
  },
  {
   "attachments": {},
   "cell_type": "markdown",
   "metadata": {},
   "source": [
    "#### 수치형 변수 확인"
   ]
  },
  {
   "cell_type": "code",
   "execution_count": 16,
   "metadata": {},
   "outputs": [
    {
     "name": "stdout",
     "output_type": "stream",
     "text": [
      "<class 'pandas.core.frame.DataFrame'>\n",
      "RangeIndex: 8932 entries, 0 to 8931\n",
      "Data columns (total 12 columns):\n",
      " #   Column            Non-Null Count  Dtype  \n",
      "---  ------            --------------  -----  \n",
      " 0   id                8932 non-null   int64  \n",
      " 1   name              8932 non-null   object \n",
      " 2   age               8932 non-null   int64  \n",
      " 3   continent         8932 non-null   object \n",
      " 4   contract_until    8932 non-null   object \n",
      " 5   position          8932 non-null   object \n",
      " 6   prefer_foot       8932 non-null   object \n",
      " 7   reputation        8932 non-null   float64\n",
      " 8   stat_overall      8932 non-null   int64  \n",
      " 9   stat_potential    8932 non-null   int64  \n",
      " 10  stat_skill_moves  8932 non-null   float64\n",
      " 11  value             8932 non-null   float64\n",
      "dtypes: float64(3), int64(4), object(5)\n",
      "memory usage: 837.5+ KB\n"
     ]
    }
   ],
   "source": [
    "train.info()"
   ]
  },
  {
   "cell_type": "code",
   "execution_count": 17,
   "metadata": {},
   "outputs": [
    {
     "data": {
      "text/plain": [
       "<AxesSubplot:>"
      ]
     },
     "execution_count": 17,
     "metadata": {},
     "output_type": "execute_result"
    },
    {
     "data": {
      "image/png": "[encoded data removed]",
      "text/plain": [
       "<Figure size 432x288 with 1 Axes>"
      ]
     },
     "metadata": {
      "needs_background": "light"
     },
     "output_type": "display_data"
    }
   ],
   "source": [
    "train['age'].hist(bins=20)"
   ]
  },
  {
   "cell_type": "code",
   "execution_count": 18,
   "metadata": {},
   "outputs": [
    {
     "data": {
      "text/plain": [
       "<AxesSubplot:>"
      ]
     },
     "execution_count": 18,
     "metadata": {},
     "output_type": "execute_result"
    },
    {
     "data": {
      "image/png": "[encoded data removed]",
      "text/plain": [
       "<Figure size 432x288 with 1 Axes>"
      ]
     },
     "metadata": {
      "needs_background": "light"
     },
     "output_type": "display_data"
    }
   ],
   "source": [
    "train['stat_overall'].hist(bins=20)"
   ]
  },
  {
   "cell_type": "code",
   "execution_count": 19,
   "metadata": {},
   "outputs": [
    {
     "data": {
      "text/plain": [
       "<AxesSubplot:>"
      ]
     },
     "execution_count": 19,
     "metadata": {},
     "output_type": "execute_result"
    },
    {
     "data": {
      "image/png": "[encoded data removed]",
      "text/plain": [
       "<Figure size 432x288 with 1 Axes>"
      ]
     },
     "metadata": {
      "needs_background": "light"
     },
     "output_type": "display_data"
    }
   ],
   "source": [
    "train['stat_potential'].hist(bins=20)"
   ]
  },
  {
   "cell_type": "code",
   "execution_count": 20,
   "metadata": {},
   "outputs": [
    {
     "data": {
      "text/plain": [
       "<AxesSubplot:>"
      ]
     },
     "execution_count": 20,
     "metadata": {},
     "output_type": "execute_result"
    },
    {
     "data": {
      "image/png": "[encoded data removed]",
      "text/plain": [
       "<Figure size 432x288 with 1 Axes>"
      ]
     },
     "metadata": {
      "needs_background": "light"
     },
     "output_type": "display_data"
    }
   ],
   "source": [
    "train['stat_skill_moves'].hist(bins=20)"
   ]
  },
  {
   "attachments": {},
   "cell_type": "markdown",
   "metadata": {},
   "source": [
    "대부분의 수치형 컬럼이 고르게 분포되어 있음을 확인할 수 있음"
   ]
  },
  {
   "attachments": {},
   "cell_type": "markdown",
   "metadata": {},
   "source": [
    "---"
   ]
  },
  {
   "attachments": {},
   "cell_type": "markdown",
   "metadata": {},
   "source": [
    "### 전처리"
   ]
  },
  {
   "cell_type": "code",
   "execution_count": 21,
   "metadata": {},
   "outputs": [
    {
     "data": {
      "text/html": [
       "<div>\n",
       "<style scoped>\n",
       "    .dataframe tbody tr th:only-of-type {\n",
       "        vertical-align: middle;\n",
       "    }\n",
       "\n",
       "    .dataframe tbody tr th {\n",
       "        vertical-align: top;\n",
       "    }\n",
       "\n",
       "    .dataframe thead th {\n",
       "        text-align: right;\n",
       "    }\n",
       "</style>\n",
       "<table border=\"1\" class=\"dataframe\">\n",
       "  <thead>\n",
       "    <tr style=\"text-align: right;\">\n",
       "      <th></th>\n",
       "      <th>id</th>\n",
       "      <th>name</th>\n",
       "      <th>age</th>\n",
       "      <th>continent</th>\n",
       "      <th>contract_until</th>\n",
       "      <th>position</th>\n",
       "      <th>prefer_foot</th>\n",
       "      <th>reputation</th>\n",
       "      <th>stat_overall</th>\n",
       "      <th>stat_potential</th>\n",
       "      <th>stat_skill_moves</th>\n",
       "      <th>value</th>\n",
       "    </tr>\n",
       "  </thead>\n",
       "  <tbody>\n",
       "    <tr>\n",
       "      <th>0</th>\n",
       "      <td>0</td>\n",
       "      <td>L. Messi</td>\n",
       "      <td>31</td>\n",
       "      <td>south america</td>\n",
       "      <td>2021</td>\n",
       "      <td>ST</td>\n",
       "      <td>left</td>\n",
       "      <td>5.0</td>\n",
       "      <td>94</td>\n",
       "      <td>94</td>\n",
       "      <td>4.0</td>\n",
       "      <td>110500000.0</td>\n",
       "    </tr>\n",
       "    <tr>\n",
       "      <th>1</th>\n",
       "      <td>3</td>\n",
       "      <td>De Gea</td>\n",
       "      <td>27</td>\n",
       "      <td>europe</td>\n",
       "      <td>2020</td>\n",
       "      <td>GK</td>\n",
       "      <td>right</td>\n",
       "      <td>4.0</td>\n",
       "      <td>91</td>\n",
       "      <td>93</td>\n",
       "      <td>1.0</td>\n",
       "      <td>72000000.0</td>\n",
       "    </tr>\n",
       "    <tr>\n",
       "      <th>2</th>\n",
       "      <td>7</td>\n",
       "      <td>L. Suárez</td>\n",
       "      <td>31</td>\n",
       "      <td>south america</td>\n",
       "      <td>2021</td>\n",
       "      <td>ST</td>\n",
       "      <td>right</td>\n",
       "      <td>5.0</td>\n",
       "      <td>91</td>\n",
       "      <td>91</td>\n",
       "      <td>3.0</td>\n",
       "      <td>80000000.0</td>\n",
       "    </tr>\n",
       "    <tr>\n",
       "      <th>3</th>\n",
       "      <td>8</td>\n",
       "      <td>Sergio Ramos</td>\n",
       "      <td>32</td>\n",
       "      <td>europe</td>\n",
       "      <td>2020</td>\n",
       "      <td>DF</td>\n",
       "      <td>right</td>\n",
       "      <td>4.0</td>\n",
       "      <td>91</td>\n",
       "      <td>91</td>\n",
       "      <td>3.0</td>\n",
       "      <td>51000000.0</td>\n",
       "    </tr>\n",
       "    <tr>\n",
       "      <th>4</th>\n",
       "      <td>9</td>\n",
       "      <td>J. Oblak</td>\n",
       "      <td>25</td>\n",
       "      <td>europe</td>\n",
       "      <td>2021</td>\n",
       "      <td>GK</td>\n",
       "      <td>right</td>\n",
       "      <td>3.0</td>\n",
       "      <td>90</td>\n",
       "      <td>93</td>\n",
       "      <td>1.0</td>\n",
       "      <td>68000000.0</td>\n",
       "    </tr>\n",
       "  </tbody>\n",
       "</table>\n",
       "</div>"
      ],
      "text/plain": [
       "   id          name  age      continent contract_until position prefer_foot  \\\n",
       "0   0      L. Messi   31  south america           2021       ST        left   \n",
       "1   3        De Gea   27         europe           2020       GK       right   \n",
       "2   7     L. Suárez   31  south america           2021       ST       right   \n",
       "3   8  Sergio Ramos   32         europe           2020       DF       right   \n",
       "4   9      J. Oblak   25         europe           2021       GK       right   \n",
       "\n",
       "   reputation  stat_overall  stat_potential  stat_skill_moves        value  \n",
       "0         5.0            94              94               4.0  110500000.0  \n",
       "1         4.0            91              93               1.0   72000000.0  \n",
       "2         5.0            91              91               3.0   80000000.0  \n",
       "3         4.0            91              91               3.0   51000000.0  \n",
       "4         3.0            90              93               1.0   68000000.0  "
      ]
     },
     "execution_count": 21,
     "metadata": {},
     "output_type": "execute_result"
    }
   ],
   "source": [
    "train.head()"
   ]
  },
  {
   "cell_type": "code",
   "execution_count": 22,
   "metadata": {},
   "outputs": [],
   "source": [
    "#label 분리 후 train에서 'value' 제거\n",
    "\n",
    "label = train['value']\n",
    "del train['value']"
   ]
  },
  {
   "cell_type": "code",
   "execution_count": 23,
   "metadata": {},
   "outputs": [],
   "source": [
    "del_cols = ['id', 'name']\n",
    "\n",
    "for col in del_cols : \n",
    "    del train[col]\n",
    "    del test[col]\n",
    "    \n",
    "train['contract_until'] = train['contract_until'].map(lambda x : x[-4:])\n",
    "test['contract_until']  = test['contract_until'].map(lambda x : x[-4:])"
   ]
  },
  {
   "attachments": {},
   "cell_type": "markdown",
   "metadata": {},
   "source": [
    "One-hot-Encoding을 하기 전에 불필요한 항목인 id, name 컬럼을 삭제 <br>\n",
    "contract_until의 경우 위에서 살펴본 것 처럼 연도가 4자리로 표기되거나 4자리의 연도 앞의 월, 일이 들어간 케이스 들이 있으므로 뒤에서 4자리만 사용 <br>\n",
    "contract_until data 형식 ['2021' '2020' '2019' '2023' '2022' '2024' 'Jun 30, 2019' '2026'\n",
    " 'Dec 31, 2018' '2018' '2025' 'Jun 30, 2020' 'May 31, 2020' 'May 31, 2019'\n",
    " 'Jan 31, 2019' 'Jan 1, 2019' 'Jan 12, 2019'] )"
   ]
  },
  {
   "attachments": {},
   "cell_type": "markdown",
   "metadata": {},
   "source": [
    "#### One-hot-Encoding"
   ]
  },
  {
   "cell_type": "code",
   "execution_count": 24,
   "metadata": {},
   "outputs": [
    {
     "data": {
      "text/plain": [
       "(12760, 25)"
      ]
     },
     "execution_count": 24,
     "metadata": {},
     "output_type": "execute_result"
    }
   ],
   "source": [
    "# train, test data를 합쳐주고 One-hot-Encoding 진행\n",
    "tmp = pd.concat([train, test])\n",
    "tmp = pd.get_dummies(tmp)\n",
    "tmp.shape"
   ]
  },
  {
   "cell_type": "code",
   "execution_count": 25,
   "metadata": {},
   "outputs": [],
   "source": [
    "# 다시 분리\n",
    "train_val = tmp.iloc[:train.shape[0]]\n",
    "test  = tmp.iloc[train.shape[0]:]"
   ]
  },
  {
   "attachments": {},
   "cell_type": "markdown",
   "metadata": {},
   "source": [
    "---\n",
    "---"
   ]
  },
  {
   "attachments": {},
   "cell_type": "markdown",
   "metadata": {},
   "source": [
    "### Train 데이터를 Train, Validation 데이터로 나누기"
   ]
  },
  {
   "cell_type": "code",
   "execution_count": 26,
   "metadata": {},
   "outputs": [],
   "source": [
    "from sklearn.model_selection import train_test_split\n",
    "x_train, x_val, y_train, y_val = train_test_split(train_val,\n",
    "                                                  label,\n",
    "                                                  test_size=0.3,\n",
    "                                                  random_state=2019)"
   ]
  },
  {
   "attachments": {},
   "cell_type": "markdown",
   "metadata": {},
   "source": [
    "### Train 데이터로 학습하고, Valid 데이터로 검증하기"
   ]
  },
  {
   "cell_type": "code",
   "execution_count": 27,
   "metadata": {},
   "outputs": [],
   "source": [
    "# 모델 불러오고\n",
    "from xgboost import XGBRegressor\n",
    "xgb = XGBRegressor(max_depth=10,\n",
    "                   n_estimators=200,\n",
    "                   n_jobs=-1,\n",
    "                   random_state=2019)"
   ]
  },
  {
   "cell_type": "code",
   "execution_count": 28,
   "metadata": {},
   "outputs": [
    {
     "data": {
      "text/plain": [
       "XGBRegressor(base_score=0.5, booster='gbtree', colsample_bylevel=1,\n",
       "             colsample_bynode=1, colsample_bytree=1, gamma=0, gpu_id=-1,\n",
       "             importance_type='gain', interaction_constraints='',\n",
       "             learning_rate=0.300000012, max_delta_step=0, max_depth=10,\n",
       "             min_child_weight=1, missing=nan, monotone_constraints='()',\n",
       "             n_estimators=200, n_jobs=-1, num_parallel_tree=1,\n",
       "             random_state=2019, reg_alpha=0, reg_lambda=1, scale_pos_weight=1,\n",
       "             subsample=1, tree_method='exact', validate_parameters=1,\n",
       "             verbosity=None)"
      ]
     },
     "execution_count": 28,
     "metadata": {},
     "output_type": "execute_result"
    }
   ],
   "source": [
    "# 학습(훈련데이터)\n",
    "xgb.fit(x_train, y_train)"
   ]
  },
  {
   "cell_type": "code",
   "execution_count": 29,
   "metadata": {},
   "outputs": [],
   "source": [
    "#모델 검증하기\n",
    "y_pred = xgb.predict(x_val)"
   ]
  },
  {
   "cell_type": "code",
   "execution_count": 30,
   "metadata": {},
   "outputs": [
    {
     "data": {
      "text/plain": [
       "0.9664538892255287"
      ]
     },
     "execution_count": 30,
     "metadata": {},
     "output_type": "execute_result"
    }
   ],
   "source": [
    "# 모델 검증하기 (검증 데이터) R<sup>2</sup>\n",
    "xgb.score(x_val, y_val)"
   ]
  },
  {
   "cell_type": "code",
   "execution_count": 32,
   "metadata": {},
   "outputs": [
    {
     "name": "stdout",
     "output_type": "stream",
     "text": [
      "XGB 회귀 모델 MSE 1084022827310.5978\n"
     ]
    }
   ],
   "source": [
    "# 3_2) 모델 검증하기 (검증 데이터) MSE\n",
    "from sklearn.metrics import mean_squared_error\n",
    "print('XGB 회귀 모델 MSE {}'.format(mean_squared_error(y_val, y_pred)))"
   ]
  },
  {
   "attachments": {},
   "cell_type": "markdown",
   "metadata": {},
   "source": [
    "R<sup>2</sup>가 1에 가까운 값을 가졌으니, 훈련 데이터로 학습한 모델은 관찰하지 않은 데이터에 대해서도 괜찮은 성능을 보여줄 것으로 예상할 수 있음"
   ]
  },
  {
   "attachments": {},
   "cell_type": "markdown",
   "metadata": {},
   "source": [
    "----\n",
    "----"
   ]
  },
  {
   "attachments": {},
   "cell_type": "markdown",
   "metadata": {},
   "source": [
    "### Cross Validation"
   ]
  },
  {
   "cell_type": "code",
   "execution_count": 35,
   "metadata": {},
   "outputs": [],
   "source": [
    "from sklearn.model_selection import KFold\n",
    "\n",
    "kf = KFold(5, shuffle=True, random_state=2019)"
   ]
  },
  {
   "cell_type": "code",
   "execution_count": 36,
   "metadata": {},
   "outputs": [
    {
     "data": {
      "text/html": [
       "<div>\n",
       "<style scoped>\n",
       "    .dataframe tbody tr th:only-of-type {\n",
       "        vertical-align: middle;\n",
       "    }\n",
       "\n",
       "    .dataframe tbody tr th {\n",
       "        vertical-align: top;\n",
       "    }\n",
       "\n",
       "    .dataframe thead th {\n",
       "        text-align: right;\n",
       "    }\n",
       "</style>\n",
       "<table border=\"1\" class=\"dataframe\">\n",
       "  <thead>\n",
       "    <tr style=\"text-align: right;\">\n",
       "      <th></th>\n",
       "      <th>age</th>\n",
       "      <th>reputation</th>\n",
       "      <th>stat_overall</th>\n",
       "      <th>stat_potential</th>\n",
       "      <th>stat_skill_moves</th>\n",
       "      <th>continent_africa</th>\n",
       "      <th>continent_asia</th>\n",
       "      <th>continent_europe</th>\n",
       "      <th>continent_oceania</th>\n",
       "      <th>continent_south america</th>\n",
       "      <th>...</th>\n",
       "      <th>contract_until_2023</th>\n",
       "      <th>contract_until_2024</th>\n",
       "      <th>contract_until_2025</th>\n",
       "      <th>contract_until_2026</th>\n",
       "      <th>position_DF</th>\n",
       "      <th>position_GK</th>\n",
       "      <th>position_MF</th>\n",
       "      <th>position_ST</th>\n",
       "      <th>prefer_foot_left</th>\n",
       "      <th>prefer_foot_right</th>\n",
       "    </tr>\n",
       "  </thead>\n",
       "  <tbody>\n",
       "    <tr>\n",
       "      <th>0</th>\n",
       "      <td>31</td>\n",
       "      <td>5.0</td>\n",
       "      <td>94</td>\n",
       "      <td>94</td>\n",
       "      <td>4.0</td>\n",
       "      <td>0</td>\n",
       "      <td>0</td>\n",
       "      <td>0</td>\n",
       "      <td>0</td>\n",
       "      <td>1</td>\n",
       "      <td>...</td>\n",
       "      <td>0</td>\n",
       "      <td>0</td>\n",
       "      <td>0</td>\n",
       "      <td>0</td>\n",
       "      <td>0</td>\n",
       "      <td>0</td>\n",
       "      <td>0</td>\n",
       "      <td>1</td>\n",
       "      <td>1</td>\n",
       "      <td>0</td>\n",
       "    </tr>\n",
       "    <tr>\n",
       "      <th>1</th>\n",
       "      <td>27</td>\n",
       "      <td>4.0</td>\n",
       "      <td>91</td>\n",
       "      <td>93</td>\n",
       "      <td>1.0</td>\n",
       "      <td>0</td>\n",
       "      <td>0</td>\n",
       "      <td>1</td>\n",
       "      <td>0</td>\n",
       "      <td>0</td>\n",
       "      <td>...</td>\n",
       "      <td>0</td>\n",
       "      <td>0</td>\n",
       "      <td>0</td>\n",
       "      <td>0</td>\n",
       "      <td>0</td>\n",
       "      <td>1</td>\n",
       "      <td>0</td>\n",
       "      <td>0</td>\n",
       "      <td>0</td>\n",
       "      <td>1</td>\n",
       "    </tr>\n",
       "    <tr>\n",
       "      <th>2</th>\n",
       "      <td>31</td>\n",
       "      <td>5.0</td>\n",
       "      <td>91</td>\n",
       "      <td>91</td>\n",
       "      <td>3.0</td>\n",
       "      <td>0</td>\n",
       "      <td>0</td>\n",
       "      <td>0</td>\n",
       "      <td>0</td>\n",
       "      <td>1</td>\n",
       "      <td>...</td>\n",
       "      <td>0</td>\n",
       "      <td>0</td>\n",
       "      <td>0</td>\n",
       "      <td>0</td>\n",
       "      <td>0</td>\n",
       "      <td>0</td>\n",
       "      <td>0</td>\n",
       "      <td>1</td>\n",
       "      <td>0</td>\n",
       "      <td>1</td>\n",
       "    </tr>\n",
       "    <tr>\n",
       "      <th>3</th>\n",
       "      <td>32</td>\n",
       "      <td>4.0</td>\n",
       "      <td>91</td>\n",
       "      <td>91</td>\n",
       "      <td>3.0</td>\n",
       "      <td>0</td>\n",
       "      <td>0</td>\n",
       "      <td>1</td>\n",
       "      <td>0</td>\n",
       "      <td>0</td>\n",
       "      <td>...</td>\n",
       "      <td>0</td>\n",
       "      <td>0</td>\n",
       "      <td>0</td>\n",
       "      <td>0</td>\n",
       "      <td>1</td>\n",
       "      <td>0</td>\n",
       "      <td>0</td>\n",
       "      <td>0</td>\n",
       "      <td>0</td>\n",
       "      <td>1</td>\n",
       "    </tr>\n",
       "    <tr>\n",
       "      <th>4</th>\n",
       "      <td>25</td>\n",
       "      <td>3.0</td>\n",
       "      <td>90</td>\n",
       "      <td>93</td>\n",
       "      <td>1.0</td>\n",
       "      <td>0</td>\n",
       "      <td>0</td>\n",
       "      <td>1</td>\n",
       "      <td>0</td>\n",
       "      <td>0</td>\n",
       "      <td>...</td>\n",
       "      <td>0</td>\n",
       "      <td>0</td>\n",
       "      <td>0</td>\n",
       "      <td>0</td>\n",
       "      <td>0</td>\n",
       "      <td>1</td>\n",
       "      <td>0</td>\n",
       "      <td>0</td>\n",
       "      <td>0</td>\n",
       "      <td>1</td>\n",
       "    </tr>\n",
       "  </tbody>\n",
       "</table>\n",
       "<p>5 rows × 25 columns</p>\n",
       "</div>"
      ],
      "text/plain": [
       "   age  reputation  stat_overall  stat_potential  stat_skill_moves  \\\n",
       "0   31         5.0            94              94               4.0   \n",
       "1   27         4.0            91              93               1.0   \n",
       "2   31         5.0            91              91               3.0   \n",
       "3   32         4.0            91              91               3.0   \n",
       "4   25         3.0            90              93               1.0   \n",
       "\n",
       "   continent_africa  continent_asia  continent_europe  continent_oceania  \\\n",
       "0                 0               0                 0                  0   \n",
       "1                 0               0                 1                  0   \n",
       "2                 0               0                 0                  0   \n",
       "3                 0               0                 1                  0   \n",
       "4                 0               0                 1                  0   \n",
       "\n",
       "   continent_south america  ...  contract_until_2023  contract_until_2024  \\\n",
       "0                        1  ...                    0                    0   \n",
       "1                        0  ...                    0                    0   \n",
       "2                        1  ...                    0                    0   \n",
       "3                        0  ...                    0                    0   \n",
       "4                        0  ...                    0                    0   \n",
       "\n",
       "   contract_until_2025  contract_until_2026  position_DF  position_GK  \\\n",
       "0                    0                    0            0            0   \n",
       "1                    0                    0            0            1   \n",
       "2                    0                    0            0            0   \n",
       "3                    0                    0            1            0   \n",
       "4                    0                    0            0            1   \n",
       "\n",
       "   position_MF  position_ST  prefer_foot_left  prefer_foot_right  \n",
       "0            0            1                 1                  0  \n",
       "1            0            0                 0                  1  \n",
       "2            0            1                 0                  1  \n",
       "3            0            0                 0                  1  \n",
       "4            0            0                 0                  1  \n",
       "\n",
       "[5 rows x 25 columns]"
      ]
     },
     "execution_count": 36,
     "metadata": {},
     "output_type": "execute_result"
    }
   ],
   "source": [
    "train_val.head()"
   ]
  },
  {
   "cell_type": "code",
   "execution_count": 37,
   "metadata": {},
   "outputs": [
    {
     "name": "stdout",
     "output_type": "stream",
     "text": [
      "fold 1, XGB 회귀 모델 MSE : 502474807953.1258\n",
      "fold 2, XGB 회귀 모델 MSE : 529718859950.2332\n",
      "fold 3, XGB 회귀 모델 MSE : 3091458033713.564\n",
      "fold 4, XGB 회귀 모델 MSE : 301114201748.9777\n",
      "fold 5, XGB 회귀 모델 MSE : 190596458279.20132\n"
     ]
    }
   ],
   "source": [
    "for i, (trn_idx, val_idx) in enumerate(kf.split(train_val, label)) : \n",
    "    x_trn, y_trn     = train_val.values[trn_idx], label.values.reshape((-1, 1))[trn_idx]\n",
    "    x_valid, y_valid = train_val.values[val_idx], label.values.reshape((-1, 1))[val_idx]\n",
    "    \n",
    "    xgb = XGBRegressor(max_depth=10,\n",
    "                   n_estimators=200,\n",
    "                   objective='reg:squarederror',\n",
    "                   n_jobs=-1,\n",
    "                   random_state=2019)\n",
    "    # ex) fold 1,2,3,4로 학습 \n",
    "    xgb.fit(x_trn, y_trn)\n",
    "    # ex) fold 5로 검증\n",
    "    y_pred = xgb.predict(x_valid)\n",
    "    \n",
    "    print('fold {}, XGB 회귀 모델 MSE : {}'.format(i+1, mean_squared_error(y_valid, y_pred)))"
   ]
  },
  {
   "attachments": {},
   "cell_type": "markdown",
   "metadata": {},
   "source": [
    "#### 보너스 앙상블 + 전처리 함수화"
   ]
  },
  {
   "cell_type": "code",
   "execution_count": 39,
   "metadata": {},
   "outputs": [],
   "source": [
    "def preprocess(train, valid):\n",
    "    # 계약 기간 컬럼에 들어있는 이상치 제거\n",
    "    train['contract_until'] = train['contract_until'].map(lambda x : x[-4:])\n",
    "    valid['contract_until'] = valid['contract_until'].map(lambda x : x[-4:])\n",
    "\n",
    "    # 두개 합치고\n",
    "    tmp = pd.concat([train, valid])\n",
    "    # One-hot Encoding하고\n",
    "    tmp = pd.get_dummies(tmp)\n",
    "\n",
    "    # 다시 분리 (train&val, test)\n",
    "    train = tmp.iloc[:train.shape[0]]\n",
    "    valid = tmp.iloc[train.shape[0]:]\n",
    "    \n",
    "    return train, valid"
   ]
  },
  {
   "cell_type": "code",
   "execution_count": 40,
   "metadata": {},
   "outputs": [],
   "source": [
    "train_val = pd.read_csv(train_path)\n",
    "\n",
    "if 'value' in train_val.columns : \n",
    "    del train_val['value']\n",
    "\n",
    "# 1. 필요없는 컬럼 제거\n",
    "del_cols = ['id', 'name']\n",
    "\n",
    "for col in del_cols : \n",
    "    del train_val[col]"
   ]
  },
  {
   "cell_type": "code",
   "execution_count": 41,
   "metadata": {},
   "outputs": [
    {
     "name": "stderr",
     "output_type": "stream",
     "text": [
      "<ipython-input-39-0350e194fc76>:3: SettingWithCopyWarning: \n",
      "A value is trying to be set on a copy of a slice from a DataFrame.\n",
      "Try using .loc[row_indexer,col_indexer] = value instead\n",
      "\n",
      "See the caveats in the documentation: https://pandas.pydata.org/pandas-docs/stable/user_guide/indexing.html#returning-a-view-versus-a-copy\n",
      "  train['contract_until'] = train['contract_until'].map(lambda x : x[-4:])\n",
      "<ipython-input-39-0350e194fc76>:4: SettingWithCopyWarning: \n",
      "A value is trying to be set on a copy of a slice from a DataFrame.\n",
      "Try using .loc[row_indexer,col_indexer] = value instead\n",
      "\n",
      "See the caveats in the documentation: https://pandas.pydata.org/pandas-docs/stable/user_guide/indexing.html#returning-a-view-versus-a-copy\n",
      "  valid['contract_until'] = valid['contract_until'].map(lambda x : x[-4:])\n"
     ]
    }
   ],
   "source": [
    "results = list()\n",
    "\n",
    "for i, (trn_idx, val_idx) in enumerate(kf.split(train_val, label)) : \n",
    "    x_trn, y_trn     = train_val.iloc[trn_idx], label.values.reshape((-1, 1))[trn_idx]\n",
    "    x_valid, y_valid = train_val.iloc[val_idx], label.values.reshape((-1, 1))[val_idx]\n",
    "    \n",
    "    # fold 마다 전처리\n",
    "    x_trn, x_valid = preprocess(x_trn, x_valid)\n",
    "    \n",
    "    xgb = XGBRegressor(max_depth=50,\n",
    "                   n_estimators=300,\n",
    "                   objective='reg:squarederror',\n",
    "                   n_jobs=-1,\n",
    "                   random_state=2019)\n",
    "    # ex) fold 1,2,3,4로 학습 \n",
    "    xgb.fit(x_trn, y_trn)\n",
    "    # ex) fold 5로 검증\n",
    "#     y_pred = xgb.predict(x_valid)\n",
    "    \n",
    "    results.append(xgb.predict(test))\n",
    "#     print('fold {}, XGB 회귀 모델 MSE : {}'.format(i+1, mean_squared_error(y_valid, y_pred)))"
   ]
  },
  {
   "cell_type": "code",
   "execution_count": 42,
   "metadata": {},
   "outputs": [
    {
     "data": {
      "text/plain": [
       "(3828,)"
      ]
     },
     "execution_count": 42,
     "metadata": {},
     "output_type": "execute_result"
    }
   ],
   "source": [
    "y_pred = np.mean(np.array(results), axis=0)\n",
    "y_pred.shape"
   ]
  },
  {
   "cell_type": "code",
   "execution_count": 43,
   "metadata": {},
   "outputs": [
    {
     "data": {
      "text/html": [
       "<div>\n",
       "<style scoped>\n",
       "    .dataframe tbody tr th:only-of-type {\n",
       "        vertical-align: middle;\n",
       "    }\n",
       "\n",
       "    .dataframe tbody tr th {\n",
       "        vertical-align: top;\n",
       "    }\n",
       "\n",
       "    .dataframe thead th {\n",
       "        text-align: right;\n",
       "    }\n",
       "</style>\n",
       "<table border=\"1\" class=\"dataframe\">\n",
       "  <thead>\n",
       "    <tr style=\"text-align: right;\">\n",
       "      <th></th>\n",
       "      <th>age</th>\n",
       "      <th>reputation</th>\n",
       "      <th>stat_overall</th>\n",
       "      <th>stat_potential</th>\n",
       "      <th>stat_skill_moves</th>\n",
       "      <th>continent_africa</th>\n",
       "      <th>continent_asia</th>\n",
       "      <th>continent_europe</th>\n",
       "      <th>continent_oceania</th>\n",
       "      <th>continent_south america</th>\n",
       "      <th>...</th>\n",
       "      <th>contract_until_2023</th>\n",
       "      <th>contract_until_2024</th>\n",
       "      <th>contract_until_2025</th>\n",
       "      <th>contract_until_2026</th>\n",
       "      <th>position_DF</th>\n",
       "      <th>position_GK</th>\n",
       "      <th>position_MF</th>\n",
       "      <th>position_ST</th>\n",
       "      <th>prefer_foot_left</th>\n",
       "      <th>prefer_foot_right</th>\n",
       "    </tr>\n",
       "  </thead>\n",
       "  <tbody>\n",
       "    <tr>\n",
       "      <th>0</th>\n",
       "      <td>33</td>\n",
       "      <td>5.0</td>\n",
       "      <td>94</td>\n",
       "      <td>94</td>\n",
       "      <td>5.0</td>\n",
       "      <td>0</td>\n",
       "      <td>0</td>\n",
       "      <td>1</td>\n",
       "      <td>0</td>\n",
       "      <td>0</td>\n",
       "      <td>...</td>\n",
       "      <td>0</td>\n",
       "      <td>0</td>\n",
       "      <td>0</td>\n",
       "      <td>0</td>\n",
       "      <td>0</td>\n",
       "      <td>0</td>\n",
       "      <td>0</td>\n",
       "      <td>1</td>\n",
       "      <td>0</td>\n",
       "      <td>1</td>\n",
       "    </tr>\n",
       "    <tr>\n",
       "      <th>1</th>\n",
       "      <td>26</td>\n",
       "      <td>5.0</td>\n",
       "      <td>92</td>\n",
       "      <td>93</td>\n",
       "      <td>5.0</td>\n",
       "      <td>0</td>\n",
       "      <td>0</td>\n",
       "      <td>0</td>\n",
       "      <td>0</td>\n",
       "      <td>1</td>\n",
       "      <td>...</td>\n",
       "      <td>0</td>\n",
       "      <td>0</td>\n",
       "      <td>0</td>\n",
       "      <td>0</td>\n",
       "      <td>0</td>\n",
       "      <td>0</td>\n",
       "      <td>0</td>\n",
       "      <td>1</td>\n",
       "      <td>0</td>\n",
       "      <td>1</td>\n",
       "    </tr>\n",
       "    <tr>\n",
       "      <th>2</th>\n",
       "      <td>27</td>\n",
       "      <td>4.0</td>\n",
       "      <td>91</td>\n",
       "      <td>92</td>\n",
       "      <td>4.0</td>\n",
       "      <td>0</td>\n",
       "      <td>0</td>\n",
       "      <td>1</td>\n",
       "      <td>0</td>\n",
       "      <td>0</td>\n",
       "      <td>...</td>\n",
       "      <td>1</td>\n",
       "      <td>0</td>\n",
       "      <td>0</td>\n",
       "      <td>0</td>\n",
       "      <td>0</td>\n",
       "      <td>0</td>\n",
       "      <td>1</td>\n",
       "      <td>0</td>\n",
       "      <td>0</td>\n",
       "      <td>1</td>\n",
       "    </tr>\n",
       "    <tr>\n",
       "      <th>3</th>\n",
       "      <td>27</td>\n",
       "      <td>4.0</td>\n",
       "      <td>91</td>\n",
       "      <td>91</td>\n",
       "      <td>4.0</td>\n",
       "      <td>0</td>\n",
       "      <td>0</td>\n",
       "      <td>1</td>\n",
       "      <td>0</td>\n",
       "      <td>0</td>\n",
       "      <td>...</td>\n",
       "      <td>0</td>\n",
       "      <td>0</td>\n",
       "      <td>0</td>\n",
       "      <td>0</td>\n",
       "      <td>0</td>\n",
       "      <td>0</td>\n",
       "      <td>0</td>\n",
       "      <td>1</td>\n",
       "      <td>0</td>\n",
       "      <td>1</td>\n",
       "    </tr>\n",
       "    <tr>\n",
       "      <th>4</th>\n",
       "      <td>32</td>\n",
       "      <td>4.0</td>\n",
       "      <td>91</td>\n",
       "      <td>91</td>\n",
       "      <td>4.0</td>\n",
       "      <td>0</td>\n",
       "      <td>0</td>\n",
       "      <td>1</td>\n",
       "      <td>0</td>\n",
       "      <td>0</td>\n",
       "      <td>...</td>\n",
       "      <td>0</td>\n",
       "      <td>0</td>\n",
       "      <td>0</td>\n",
       "      <td>0</td>\n",
       "      <td>0</td>\n",
       "      <td>0</td>\n",
       "      <td>1</td>\n",
       "      <td>0</td>\n",
       "      <td>0</td>\n",
       "      <td>1</td>\n",
       "    </tr>\n",
       "  </tbody>\n",
       "</table>\n",
       "<p>5 rows × 25 columns</p>\n",
       "</div>"
      ],
      "text/plain": [
       "   age  reputation  stat_overall  stat_potential  stat_skill_moves  \\\n",
       "0   33         5.0            94              94               5.0   \n",
       "1   26         5.0            92              93               5.0   \n",
       "2   27         4.0            91              92               4.0   \n",
       "3   27         4.0            91              91               4.0   \n",
       "4   32         4.0            91              91               4.0   \n",
       "\n",
       "   continent_africa  continent_asia  continent_europe  continent_oceania  \\\n",
       "0                 0               0                 1                  0   \n",
       "1                 0               0                 0                  0   \n",
       "2                 0               0                 1                  0   \n",
       "3                 0               0                 1                  0   \n",
       "4                 0               0                 1                  0   \n",
       "\n",
       "   continent_south america  ...  contract_until_2023  contract_until_2024  \\\n",
       "0                        0  ...                    0                    0   \n",
       "1                        1  ...                    0                    0   \n",
       "2                        0  ...                    1                    0   \n",
       "3                        0  ...                    0                    0   \n",
       "4                        0  ...                    0                    0   \n",
       "\n",
       "   contract_until_2025  contract_until_2026  position_DF  position_GK  \\\n",
       "0                    0                    0            0            0   \n",
       "1                    0                    0            0            0   \n",
       "2                    0                    0            0            0   \n",
       "3                    0                    0            0            0   \n",
       "4                    0                    0            0            0   \n",
       "\n",
       "   position_MF  position_ST  prefer_foot_left  prefer_foot_right  \n",
       "0            0            1                 0                  1  \n",
       "1            0            1                 0                  1  \n",
       "2            1            0                 0                  1  \n",
       "3            0            1                 0                  1  \n",
       "4            1            0                 0                  1  \n",
       "\n",
       "[5 rows x 25 columns]"
      ]
     },
     "execution_count": 43,
     "metadata": {},
     "output_type": "execute_result"
    }
   ],
   "source": [
    "test.head()"
   ]
  },
  {
   "attachments": {},
   "cell_type": "markdown",
   "metadata": {},
   "source": [
    "##### Cross Validation Score"
   ]
  },
  {
   "cell_type": "code",
   "execution_count": 44,
   "metadata": {},
   "outputs": [
    {
     "data": {
      "text/html": [
       "<div>\n",
       "<style scoped>\n",
       "    .dataframe tbody tr th:only-of-type {\n",
       "        vertical-align: middle;\n",
       "    }\n",
       "\n",
       "    .dataframe tbody tr th {\n",
       "        vertical-align: top;\n",
       "    }\n",
       "\n",
       "    .dataframe thead th {\n",
       "        text-align: right;\n",
       "    }\n",
       "</style>\n",
       "<table border=\"1\" class=\"dataframe\">\n",
       "  <thead>\n",
       "    <tr style=\"text-align: right;\">\n",
       "      <th></th>\n",
       "      <th>id</th>\n",
       "      <th>name</th>\n",
       "      <th>age</th>\n",
       "      <th>continent</th>\n",
       "      <th>contract_until</th>\n",
       "      <th>position</th>\n",
       "      <th>prefer_foot</th>\n",
       "      <th>reputation</th>\n",
       "      <th>stat_overall</th>\n",
       "      <th>stat_potential</th>\n",
       "      <th>stat_skill_moves</th>\n",
       "    </tr>\n",
       "  </thead>\n",
       "  <tbody>\n",
       "    <tr>\n",
       "      <th>0</th>\n",
       "      <td>1</td>\n",
       "      <td>Cristiano Ronaldo</td>\n",
       "      <td>33</td>\n",
       "      <td>europe</td>\n",
       "      <td>2022</td>\n",
       "      <td>ST</td>\n",
       "      <td>right</td>\n",
       "      <td>5.0</td>\n",
       "      <td>94</td>\n",
       "      <td>94</td>\n",
       "      <td>5.0</td>\n",
       "    </tr>\n",
       "    <tr>\n",
       "      <th>1</th>\n",
       "      <td>2</td>\n",
       "      <td>Neymar Jr</td>\n",
       "      <td>26</td>\n",
       "      <td>south america</td>\n",
       "      <td>2022</td>\n",
       "      <td>ST</td>\n",
       "      <td>right</td>\n",
       "      <td>5.0</td>\n",
       "      <td>92</td>\n",
       "      <td>93</td>\n",
       "      <td>5.0</td>\n",
       "    </tr>\n",
       "    <tr>\n",
       "      <th>2</th>\n",
       "      <td>4</td>\n",
       "      <td>K. De Bruyne</td>\n",
       "      <td>27</td>\n",
       "      <td>europe</td>\n",
       "      <td>2023</td>\n",
       "      <td>MF</td>\n",
       "      <td>right</td>\n",
       "      <td>4.0</td>\n",
       "      <td>91</td>\n",
       "      <td>92</td>\n",
       "      <td>4.0</td>\n",
       "    </tr>\n",
       "    <tr>\n",
       "      <th>3</th>\n",
       "      <td>5</td>\n",
       "      <td>E. Hazard</td>\n",
       "      <td>27</td>\n",
       "      <td>europe</td>\n",
       "      <td>2020</td>\n",
       "      <td>ST</td>\n",
       "      <td>right</td>\n",
       "      <td>4.0</td>\n",
       "      <td>91</td>\n",
       "      <td>91</td>\n",
       "      <td>4.0</td>\n",
       "    </tr>\n",
       "    <tr>\n",
       "      <th>4</th>\n",
       "      <td>6</td>\n",
       "      <td>L. Modrić</td>\n",
       "      <td>32</td>\n",
       "      <td>europe</td>\n",
       "      <td>2020</td>\n",
       "      <td>MF</td>\n",
       "      <td>right</td>\n",
       "      <td>4.0</td>\n",
       "      <td>91</td>\n",
       "      <td>91</td>\n",
       "      <td>4.0</td>\n",
       "    </tr>\n",
       "  </tbody>\n",
       "</table>\n",
       "</div>"
      ],
      "text/plain": [
       "   id               name  age      continent contract_until position  \\\n",
       "0   1  Cristiano Ronaldo   33         europe           2022       ST   \n",
       "1   2          Neymar Jr   26  south america           2022       ST   \n",
       "2   4       K. De Bruyne   27         europe           2023       MF   \n",
       "3   5          E. Hazard   27         europe           2020       ST   \n",
       "4   6          L. Modrić   32         europe           2020       MF   \n",
       "\n",
       "  prefer_foot  reputation  stat_overall  stat_potential  stat_skill_moves  \n",
       "0       right         5.0            94              94               5.0  \n",
       "1       right         5.0            92              93               5.0  \n",
       "2       right         4.0            91              92               4.0  \n",
       "3       right         4.0            91              91               4.0  \n",
       "4       right         4.0            91              91               4.0  "
      ]
     },
     "execution_count": 44,
     "metadata": {},
     "output_type": "execute_result"
    }
   ],
   "source": [
    "test = pd.read_csv(test_path)\n",
    "test.head()"
   ]
  },
  {
   "cell_type": "code",
   "execution_count": 62,
   "metadata": {},
   "outputs": [
    {
     "data": {
      "text/html": [
       "<div>\n",
       "<style scoped>\n",
       "    .dataframe tbody tr th:only-of-type {\n",
       "        vertical-align: middle;\n",
       "    }\n",
       "\n",
       "    .dataframe tbody tr th {\n",
       "        vertical-align: top;\n",
       "    }\n",
       "\n",
       "    .dataframe thead th {\n",
       "        text-align: right;\n",
       "    }\n",
       "</style>\n",
       "<table border=\"1\" class=\"dataframe\">\n",
       "  <thead>\n",
       "    <tr style=\"text-align: right;\">\n",
       "      <th></th>\n",
       "      <th>id</th>\n",
       "      <th>value</th>\n",
       "    </tr>\n",
       "  </thead>\n",
       "  <tbody>\n",
       "    <tr>\n",
       "      <th>0</th>\n",
       "      <td>1.0</td>\n",
       "      <td>69682480.0</td>\n",
       "    </tr>\n",
       "    <tr>\n",
       "      <th>1</th>\n",
       "      <td>2.0</td>\n",
       "      <td>77169504.0</td>\n",
       "    </tr>\n",
       "    <tr>\n",
       "      <th>2</th>\n",
       "      <td>4.0</td>\n",
       "      <td>74749560.0</td>\n",
       "    </tr>\n",
       "    <tr>\n",
       "      <th>3</th>\n",
       "      <td>5.0</td>\n",
       "      <td>77126528.0</td>\n",
       "    </tr>\n",
       "    <tr>\n",
       "      <th>4</th>\n",
       "      <td>6.0</td>\n",
       "      <td>63736372.0</td>\n",
       "    </tr>\n",
       "  </tbody>\n",
       "</table>\n",
       "</div>"
      ],
      "text/plain": [
       "    id       value\n",
       "0  1.0  69682480.0\n",
       "1  2.0  77169504.0\n",
       "2  4.0  74749560.0\n",
       "3  5.0  77126528.0\n",
       "4  6.0  63736372.0"
      ]
     },
     "execution_count": 62,
     "metadata": {},
     "output_type": "execute_result"
    }
   ],
   "source": [
    "result = pd.DataFrame(np.concatenate([test['id'].values.reshape((-1,1)), y_pred.reshape((-1,1))], axis=1))\n",
    "result.columns = ['id', 'value']\n",
    "result.head()"
   ]
  },
  {
   "cell_type": "code",
   "execution_count": 64,
   "metadata": {},
   "outputs": [],
   "source": [
    "result.to_csv('result.csv', index=False)"
   ]
  }
 ],
 "metadata": {
  "kernelspec": {
   "display_name": "Python 3",
   "language": "python",
   "name": "python3"
  },
  "language_info": {
   "codemirror_mode": {
    "name": "ipython",
    "version": 3
   },
   "file_extension": ".py",
   "mimetype": "text/x-python",
   "name": "python",
   "nbconvert_exporter": "python",
   "pygments_lexer": "ipython3",
   "version": "3.8.5"
  }
 },
 "nbformat": 4,
 "nbformat_minor": 4
}
